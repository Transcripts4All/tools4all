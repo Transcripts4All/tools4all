{
  "cells": [
    {
      "cell_type": "markdown",
      "source": [
        "[![Open in Colab](https://colab.research.google.com/assets/colab-badge.svg)](https://colab.research.google.com/github/Transcripts4All/tools4all/blob/main/Faster-Whisper-XXL-GPU.ipynb)"
      ],
      "metadata": {
        "id": "colab"
      }
    },
    {
      "cell_type": "markdown",
      "source": [
        "# Step 1:\n",
        "# Execute the following task and upload an audio file, or files, to the content directory while you wait for the task to complete."
      ],
      "metadata": {
        "id": "step1"
      }
    },
    {
      "cell_type": "code",
      "source": [
        "!wget https://github.com/Purfview/whisper-standalone-win/releases/download/Faster-Whisper-XXL/Faster-Whisper-XXL_r245.4_linux.7z\n",
        "!7z x Faster-Whisper-XXL_r245.4_linux.7z\n",
        "!rm Faster-Whisper-XXL_r245.4_linux.7z\n",
        "!rm license.txt\n",
        "!chmod +x Faster-Whisper-XXL/faster-whisper-xxl\n",
        "import os\n",
        "os.environ['MPLBACKEND'] = 'Agg'"
      ],
      "metadata": {
        "id": "setup"
      },
      "execution_count": null,
      "outputs": []
    },
    {
      "cell_type": "markdown",
      "source": [
        "# Step 2:\n",
        "# Once the above task has completed and all audio files have successfully been uploaded to the content directory, execute the follow task."
      ],
      "metadata": {
        "id": "step2"
      }
    },
    {
      "cell_type": "code",
      "source": [
        "import glob, os, shutil\n",
        "audioFiles = glob.glob('/content/*.*')\n",
        "with open('batch.txt', 'w') as batch:\n",
        "  for audioFile in audioFiles:\n",
        "    batch.write(audioFile+'\\n')\n",
        "!/content/Faster-Whisper-XXL/faster-whisper-xxl batch.txt -m turbo --task transcribe --diarize reverb_v2 -br -o Transcripts -f txt srt\n",
        "!rm *.*\n",
        "!zip Transcripts.zip Transcripts/*.*\n",
        "shutil.rmtree('Transcripts')"
      ],
      "metadata": {
        "id": "generate"
      },
      "execution_count": null,
      "outputs": []
    },
    {
      "cell_type": "markdown",
      "source": [
        "# Step 3:\n",
        "# Download your Transcripts.zip file from the content directory."
      ],
      "metadata": {
        "id": "step3"
      }
    }
  ],
  "metadata": {
    "accelerator": "GPU",
    "colab": {
      "provenance": [],
      "private_outputs": true,
      "gpuType": "T4"
    },
    "kernelspec": {
      "display_name": "Python 3",
      "name": "python3"
    },
    "language_info": {
      "name": "python"
    }
  },
  "nbformat": 4,
  "nbformat_minor": 0
}
