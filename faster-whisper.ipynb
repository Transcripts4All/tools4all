{
  "cells": [
    {
      "cell_type": "markdown",
      "source": [
        "[![Open in Colab](https://colab.research.google.com/assets/colab-badge.svg)](https://colab.research.google.com/github/Transcripts4All/tools4all/blob/main/faster-whisper.ipynb)"
      ],
      "metadata": {
        "id": "colab"
      }
    },
    {
      "cell_type": "markdown",
      "source": [
        "# Step 1:\n",
        "# Execute the following task and upload an audio file, or files, to the content directory while you wait for the task to complete."
      ],
      "metadata": {
        "id": "step1"
      }
    },
    {
      "cell_type": "code",
      "source": [
        "!pip install faster-whisper"
      ],
      "metadata": {
        "id": "install"
      },
      "execution_count": null,
      "outputs": []
    },
    {
      "cell_type": "markdown",
      "source": [
        "# Step 2:\n",
        "# Once the above task has completed and all audio files have successfully been uploaded to the content directory, execute the follow task."
      ],
      "metadata": {
        "id": "step2"
      }
    },
    {
      "cell_type": "code",
      "source": [
        "import glob, os\n",
        "from faster_whisper import WhisperModel\n",
        "model = WhisperModel('turbo', device = 'cuda', compute_type = 'float16')\n",
        "audioFiles = glob.glob('/content/*.*')\n",
        "for i in range(len(audioFiles)):\n",
        "  for audioFile in glob.glob(audioFiles[i]):\n",
        "    lineNumber = 1\n",
        "    baseFile = os.path.splitext(audioFile)[0]\n",
        "    with open(baseFile+'.srt', 'w') as srtFile:\n",
        "      with open(baseFile+'.txt', 'w') as txtFile:\n",
        "        segments, info = model.transcribe(audioFile, beam_size=5)\n",
        "        for segment in segments:\n",
        "          sm, ss = divmod(segment.start, 60)\n",
        "          sh, sm = divmod(sm, 60)\n",
        "          em, es = divmod(segment.end, 60)\n",
        "          eh, em = divmod(em, 60)\n",
        "          ssi = int(ss)\n",
        "          ss = ss-ssi\n",
        "          esi = int(es)\n",
        "          es = es-esi\n",
        "          timeStamp = f'{sh:02.0f}:{sm:02.0f}:{ssi:02d},{ss:0.03f}'+' --> '+f'{eh:02.0f}:{em:02.0f}:{esi:02d},{es:0.03f}'\n",
        "          timeStamp = timeStamp.replace(',0.', ',')\n",
        "          print('['+timeStamp+']'+segment.text)\n",
        "          srtFile.write(str(lineNumber)+'\\n'+timeStamp+'\\n'+segment.text.strip()+'\\n\\n')\n",
        "          txtFile.write(segment.text)\n",
        "          lineNumber = lineNumber+1\n",
        "    os.remove(audioFile)\n",
        "    !zip \"$baseFile\".zip \"$baseFile\".srt \"$baseFile\".txt\n",
        "    !rm \"$baseFile\".srt \"$baseFile\".txt"
      ],
      "metadata": {
        "id": "generate"
      },
      "execution_count": null,
      "outputs": []
    },
    {
      "cell_type": "markdown",
      "source": [
        "# Step 3:\n",
        "# Download your ZIP files from the content directory."
      ],
      "metadata": {
        "id": "step3"
      }
    }
  ],
  "metadata": {
    "accelerator": "GPU",
    "colab": {
      "provenance": [],
      "private_outputs": true,
      "gpuType": "T4"
    },
    "kernelspec": {
      "display_name": "Python 3",
      "name": "python3"
    },
    "language_info": {
      "name": "python"
    }
  },
  "nbformat": 4,
  "nbformat_minor": 0
}
