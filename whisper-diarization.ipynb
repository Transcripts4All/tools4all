{
  "cells": [
    {
      "cell_type": "markdown",
      "source": [
        "[![Open in Colab](https://colab.research.google.com/assets/colab-badge.svg)](https://colab.research.google.com/github/Transcripts4All/tools4all/blob/main/whisper-diarization.ipynb)"
      ],
      "metadata": {
        "id": "colab"
      }
    },
    {
      "cell_type": "markdown",
      "source": [
        "# Step 1:\n",
        "# Execute the following task and upload an audio file to the content directory while you wait for the task to complete."
      ],
      "metadata": {
        "id": "step1"
      }
    },
    {
      "cell_type": "code",
      "source": [
        "!git clone https://github.com/MahmoudAshraf97/whisper-diarization\n",
        "!pip install git+https://github.com/m-bain/whisperX.git@a5dca2cc65b1a37f32a347e574b2c56af3a7434a\n",
        "!pip install --no-build-isolation nemo_toolkit[asr]==1.20.0\n",
        "!pip install git+https://github.com/facebookresearch/demucs#egg=demucs\n",
        "!pip install deepmultilingualpunctuation\n",
        "!pip install wget pydub\n",
        "!pip install --force-reinstall torch torchaudio torchvision\n",
        "!pip uninstall -y nvidia-cudnn-cu12\n",
        "!pip install numba==0.58.0"
      ],
      "metadata": {
        "id": "setup"
      },
      "execution_count": null,
      "outputs": []
    },
    {
      "cell_type": "markdown",
      "source": [
        "# Step 2:\n",
        "# ^ !!! WAIT FOR ABOVE TASK TO COMPLETE !!! ^\n",
        "# ^ !!! RESTART RUNTIME WHEN PROMPTED !!! ^\n",
        "\n",
        "# Step 3:\n",
        "# Once the above task has completed and the audio file has successfully been uploaded to the content directory, execute the follow task."
      ],
      "metadata": {
        "id": "step23"
      }
    },
    {
      "cell_type": "code",
      "source": [
        "import glob, os\n",
        "audioFiles = glob.glob(\"/content/*.*\")\n",
        "os.chdir(\"/content/whisper-diarization\")\n",
        "for i in range(len(audioFiles)):\n",
        "  for audioFile in glob.glob(audioFiles[i]):\n",
        "    baseFile = os.path.splitext(audioFile)[0]\n",
        "    !python diarize_parallel.py --whisper-model large-v2 -a \"$audioFile\"\n",
        "    !rm \"$audioFile\"\n",
        "    !zip \"$baseFile\".zip \"$baseFile\".srt \"$baseFile\".txt\n",
        "    !rm \"$baseFile\".srt \"$baseFile\".txt"
      ],
      "metadata": {
        "id": "generate"
      },
      "execution_count": null,
      "outputs": []
    },
    {
      "cell_type": "markdown",
      "source": [
        "# Step 4:\n",
        "# Download the /content/Transcript.zip file."
      ],
      "metadata": {
        "id": "step4"
      }
    }
  ],
  "metadata": {
    "accelerator": "GPU",
    "colab": {
      "provenance": [],
      "private_outputs": true,
      "gpuType": "T4"
    },
    "kernelspec": {
      "display_name": "Python 3",
      "name": "python3"
    },
    "language_info": {
      "name": "python"
    }
  },
  "nbformat": 4,
  "nbformat_minor": 0
}
